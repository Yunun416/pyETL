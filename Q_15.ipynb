{
 "cells": [
  {
   "cell_type": "markdown",
   "metadata": {},
   "source": [
    "# openCV 作業：\n",
    "* 題目：請找一段約一分鐘左右的影片，利用上課時學過的影像處理功能，發揮所有創意和想像，將該影片加工特效，產生一段新影片，怕誤解同學的創意，請將你的亮點盡可能寫在影片中的右下角\n",
    "\n",
    "* 上傳：導師會有告訴同學上傳空間, 或可上傳到Youtube 或自己的雲端空間, 把連結給老師(依導師規範為準)\n",
    "\n",
    "* 繳交日期：課後二週\n",
    "\n",
    "* 評分：亮點愈亮，創意愈多，分數愈高 \n",
    "\n",
    "* 參考 :<br>\n",
    "https://www.youtube.com/watch?v=Fszu0L1JtqM"
   ]
  },
  {
   "cell_type": "code",
   "execution_count": 9,
   "metadata": {},
   "outputs": [
    {
     "name": "stdout",
     "output_type": "stream",
     "text": [
      "fps : 30.0 f/s, Frame_Count : 2935.0\n"
     ]
    },
    {
     "data": {
      "text/plain": [
       "-1"
      ]
     },
     "execution_count": 9,
     "metadata": {},
     "output_type": "execute_result"
    }
   ],
   "source": [
    "import numpy as np\n",
    "import cv2\n",
    "\n",
    "\n",
    "cap = cv2.VideoCapture('../video/grandpa.mp4')   # 讀取電腦中的影片\n",
    "cap2 = cv2.VideoCapture('../video/grandpa.mp4')\n",
    "\n",
    "fps = cap.get(cv2.CAP_PROP_FPS)               # Frame Per Second\n",
    "F_Count = cap.get(cv2.CAP_PROP_FRAME_COUNT)   # frame count\n",
    "w = int(cap.get(cv2.CAP_PROP_FRAME_WIDTH))        # 取得畫面尺寸\n",
    "h = int(cap.get(cv2.CAP_PROP_FRAME_HEIGHT))\n",
    "fourcc = cv2.VideoWriter_fourcc(*'MP4V')             # 使用 XVID 編碼\n",
    "out = cv2.VideoWriter('../video/granpa_out1.mp4', fourcc, fps, (w, h))\n",
    "\n",
    "print(f'fps : {fps:0.01f} f/s, Frame_Count : {F_Count}')\n",
    "\n",
    "for i in range(1,2936):\n",
    "    ret, frame = cap.read(i) #讀取影片的每一幀\n",
    "    if not ret : break\n",
    "    \n",
    "    c=cv2.waitKey(20) \n",
    "    if c==27 : break\n",
    "    \n",
    "    #原影片\n",
    "    if i <= 420:\n",
    "        cv2.putText(frame, 'original',(50, 130), cv2.FONT_HERSHEY_SIMPLEX, 2.0, (255,255,255), 6, cv2.LINE_AA) \n",
    "    \n",
    "    #RGB 左右相反\n",
    "    if 421 <= i <= 840:\n",
    "        frame = cv2.flip(frame, 1)\n",
    "        frame = cv2.cvtColor(frame, cv2.COLOR_BGRA2RGB)\n",
    "        cv2.putText(frame, 'flip(1)&cvtColor',(50, 130), cv2.FONT_HERSHEY_SIMPLEX, 2.0, (255,255,255), 6, cv2.LINE_AA)\n",
    "    \n",
    "    #邊緣\n",
    "    if 841 <= i <= 1260:\n",
    "         #图像灰度处理\n",
    "        gray = cv2.cvtColor(frame, cv2.COLOR_BGR2GRAY)\n",
    "  \n",
    "        #高斯滤波降噪\n",
    "        gaussian = cv2.GaussianBlur(gray, (5,5), 0)\n",
    " \n",
    "        #Canny算子\n",
    "        canny = cv2.Canny(gaussian, 50, 150)\n",
    "\n",
    "        #阈值化处理\n",
    "        ret, frame = cv2.threshold(canny, 0, 255, cv2.THRESH_BINARY_INV+cv2.THRESH_OTSU)\n",
    "        cv2.putText(frame, 'threshold',(50, 130), cv2.FONT_HERSHEY_SIMPLEX, 2.0, (0,0,0), 6, cv2.LINE_AA)\n",
    "\n",
    "    #模糊\n",
    "    if 1261 <= i <= 1680:\n",
    "        frame = cv2.blur(frame,(25,25))\n",
    "        cv2.putText(frame, 'blur',(50, 130), cv2.FONT_HERSHEY_SIMPLEX, 2.0, (255,255,255), 6, cv2.LINE_AA)\n",
    "    \n",
    "    #母子畫面\n",
    "    if 1681 <= i <= 2100:\n",
    "        ret, frame2 = cap2.read(i) #讀取影片的每一幀\n",
    "        if not ret : break\n",
    "        frame2 = cv2.resize(frame2,(320,180))  # 縮小尺寸\n",
    "        frame = cv2.resize(frame,(1280,720))  # 縮小尺寸\n",
    "        frame[530:710,950:1270] = frame2       # 將 img2 的特定區域換成 img1\n",
    "\n",
    "        cv2.rectangle(frame, (950,530), (1270,710), (255,255,0), 5)  # 繪製子影片的外框\n",
    "        cv2.putText(frame, 'insert video',(50, 130), cv2.FONT_HERSHEY_SIMPLEX, 2.0, (255,255,255), 6, cv2.LINE_AA)\n",
    "    #變形\n",
    "    if 2101 <= i <= 2520:\n",
    "        p1 = np.float32([[200,100],[1280,0],[0,720]])\n",
    "        p2 = np.float32([[0,0],[1280,0],[0,720]])\n",
    "        M = cv2.getAffineTransform(p1, p2)\n",
    "        frame = cv2.warpAffine(frame, M, (1280, 720))\n",
    "        cv2.putText(frame, 'getAffineTransform',(50, 130), cv2.FONT_HERSHEY_SIMPLEX, 2.0, (255,255,255), 6, cv2.LINE_AA)\n",
    "    \n",
    "    #馬賽克\n",
    "    if 2521 <= i <= 2936:\n",
    "        size = frame.shape         # 取得原始圖片的資訊\n",
    "        level = 15               # 縮小比例 ( 可當作馬賽克的等級 )\n",
    "        h = int(size[0]/level)   # 按照比例縮小後的高度 ( 使用 int 去除小數點 )\n",
    "        w = int(size[1]/level)   # 按照比例縮小後的寬度 ( 使用 int 去除小數點 )\n",
    "        frame = cv2.resize(frame, (w,h), interpolation=cv2.INTER_LINEAR)   # 根據縮小尺寸縮小\n",
    "        frame = cv2.resize(frame, (size[1],size[0]), interpolation=cv2.INTER_NEAREST) \n",
    "        cv2.putText(frame, 'mosaic',(50, 130), cv2.FONT_HERSHEY_SIMPLEX, 2.0, (255,255,255), 6, cv2.LINE_AA)\n",
    "    \n",
    "    cv2.putText(frame, f'{cap.get(cv2.CAP_PROP_POS_FRAMES):.0f} frames, {cap.get(cv2.CAP_PROP_POS_MSEC):.0f} ms', \n",
    "                (50 , 50), cv2.FONT_HERSHEY_SIMPLEX, 1.0, (255,255,255), 2, cv2.LINE_AA)\n",
    "    cv2.imshow('frame',frame)\n",
    "    out.write(frame)\n",
    "    \n",
    "out.release()\n",
    "cap.release()\n",
    "cv2.destroyAllWindows()\n",
    "cv2.waitKey(1)"
   ]
  },
  {
   "cell_type": "code",
   "execution_count": null,
   "metadata": {},
   "outputs": [],
   "source": []
  }
 ],
 "metadata": {
  "kernelspec": {
   "display_name": "Python 3",
   "language": "python",
   "name": "python3"
  },
  "language_info": {
   "codemirror_mode": {
    "name": "ipython",
    "version": 3
   },
   "file_extension": ".py",
   "mimetype": "text/x-python",
   "name": "python",
   "nbconvert_exporter": "python",
   "pygments_lexer": "ipython3",
   "version": "3.6.13"
  }
 },
 "nbformat": 4,
 "nbformat_minor": 4
}
